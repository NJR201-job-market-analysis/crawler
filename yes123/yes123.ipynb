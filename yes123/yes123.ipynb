{
  "nbformat": 4,
  "nbformat_minor": 0,
  "metadata": {
    "colab": {
      "provenance": []
    },
    "kernelspec": {
      "name": "python3",
      "display_name": "Python 3"
    },
    "language_info": {
      "name": "python"
    }
  },
  "cells": [
    {
      "cell_type": "markdown",
      "source": [
        "## 開始爬蟲"
      ],
      "metadata": {
        "id": "WrZ4UN26mUCo"
      }
    },
    {
      "cell_type": "code",
      "source": [
        "import urllib.request as req\n",
        "import urllib.parse\n",
        "\n",
        "find_work_mode1 = \"2_1011_0001_0017\"\n",
        "s_find_work_mode1 = \"資料工程師\"\n",
        "\n",
        "# 原始 URL，含有中文\n",
        "url = f'https://www.yes123.com.tw/wk_index/joblist.asp?find_work_mode1={find_work_mode1}&s_find_work_mode1={s_find_work_mode1}&order_ascend=desc&strrec=0&search_type=job&search_from=joblist'\n",
        "\n",
        "# 將中文部分進行編碼\n",
        "parsed = urllib.parse.urlsplit(url)\n",
        "encoded_path = urllib.parse.quote(parsed.path)\n",
        "encoded_query = urllib.parse.quote(parsed.query, safe=\"=&\")\n",
        "# 組合回完整 URL\n",
        "url = urllib.parse.urlunsplit((parsed.scheme, parsed.netloc, encoded_path, encoded_query, parsed.fragment))\n",
        "print(url)"
      ],
      "metadata": {
        "colab": {
          "base_uri": "https://localhost:8080/"
        },
        "id": "QtZf3Pl4EnP0",
        "outputId": "d5fc0979-6b25-40ac-981d-f4c2f23fafdc"
      },
      "execution_count": 4,
      "outputs": [
        {
          "output_type": "stream",
          "name": "stdout",
          "text": [
            "https://www.yes123.com.tw/wk_index/joblist.asp?find_work_mode1=2_1011_0001_0017&s_find_work_mode1=%E8%B3%87%E6%96%99%E5%B7%A5%E7%A8%8B%E5%B8%AB&order_ascend=desc&strrec=0&search_type=job&search_from=joblist\n"
          ]
        }
      ]
    },
    {
      "cell_type": "code",
      "source": [
        "import urllib.request as req\n",
        "import bs4 as bs\n",
        "\n",
        "r = req.Request(url)\n",
        "r.add_header(\"User-Agent\", \"Mozilla/5.0 (Macintosh; Intel Mac OS X 10_15_7) AppleWebKit/537.36 (KHTML, like Gecko) Chrome/135.0.0.0 Safari/537.36\")\n",
        "resp = req.urlopen(r)\n",
        "html = bs.BeautifulSoup(resp)\n",
        "print(html)"
      ],
      "metadata": {
        "id": "nPLZXk57mV3R"
      },
      "execution_count": null,
      "outputs": []
    },
    {
      "cell_type": "code",
      "source": [
        "def crawl_a_job(job_link):\n",
        "    return"
      ],
      "metadata": {
        "id": "vCAeaJi5R1C5"
      },
      "execution_count": null,
      "outputs": []
    },
    {
      "cell_type": "code",
      "source": [
        "def crawl_all_results(html):\n",
        "    job_items = html.find_all(\"div\",{\"class\":\"Job_opening_M\"})\n",
        "    print(len(job_items))\n",
        "    for job_item in job_items:\n",
        "        divs = job_item.find(\"div\",{\"class\":\"Job_opening_item_info_M\"}).find_all('div')\n",
        "        # 工作名稱\n",
        "        title_text = divs[1].find('h5').get_text().strip()\n",
        "        # 以下兩個之後會在table「company」獨立建表\n",
        "        company_text = divs[2].find('h5').get_text().strip()\n",
        "        # 這個以後會替換成完整地址，但我個人想保留地區，分類可能會有用\n",
        "        county_text = divs[3].find('h5').get_text().strip()\n",
        "        salary_text = divs[4].find('h5').get_text().strip()\n",
        "\n",
        "        # tags: 有些有有些沒有\n",
        "        tags = ''\n",
        "        if len(divs) > 5:\n",
        "            for div in divs[5:]:\n",
        "                tags += div.get_text().strip()\n",
        "\n",
        "        job = {\n",
        "            \"title\": title_text,\n",
        "            \"salary\": salary_text,\n",
        "            \"company\": company_text,\n",
        "            \"county\": county_text,\n",
        "            \"tags\": tags\n",
        "        };\n",
        "        print(job)\n",
        "\n",
        "        # 準備爬取每個職缺連結\n",
        "        job_link = job_item.find('a')['href']\n",
        "        job_link = 'https://www.yes123.com.tw/wk_index/' + job_link\n",
        "        print(job_link)"
      ],
      "metadata": {
        "id": "cmTrbkAt8QMk"
      },
      "execution_count": 62,
      "outputs": []
    },
    {
      "cell_type": "code",
      "source": [
        "crawl_all_results(html)"
      ],
      "metadata": {
        "colab": {
          "base_uri": "https://localhost:8080/"
        },
        "id": "FzHKYgVTAuSb",
        "outputId": "4470c5ff-6eb3-4503-ec35-cb376b8334f1"
      },
      "execution_count": 63,
      "outputs": [
        {
          "output_type": "stream",
          "name": "stdout",
          "text": [
            "26\n",
            "{'title': 'AI工程師', 'salary': '月薪\\u300040,000 至 45,000元', 'company': '快樂島股份有限公司', 'county': '台北市內湖區', 'tags': '#免經驗\\n#二度就業\\n#彈性上下班'}\n",
            "https://www.yes123.com.tw/wk_index/job.asp?p_id=20250216110109_53743163&job_id=20250315224637_9947117\n",
            "{'title': 'D4000Y 資料倉儲數據工程師', 'salary': '薪資面議(經常性薪資達4萬元含以上)', 'company': '富邦媒體科技股份有限公司', 'county': '台北市內湖區', 'tags': ''}\n",
            "https://www.yes123.com.tw/wk_index/job.asp?p_id=20140103100924_27365925&job_id=20240328032557_23778114\n",
            "{'title': '資訊課級主管(資料分析與架構研發)', 'salary': '薪資面議(經常性薪資達4萬元含以上)', 'company': '富邦媒體科技股份有限公司', 'county': '台北市內湖區', 'tags': ''}\n",
            "https://www.yes123.com.tw/wk_index/job.asp?p_id=20140103100924_27365925&job_id=20250313033103_1840801\n",
            "{'title': '☆永科☆日商科技廠＜正職＞資訊人員', 'salary': '月薪\\u300035,000 至 43,000元', 'company': '萬通國際人力開發股份有限公司', 'county': '台南市永康區', 'tags': '#有獎金分紅\\n#年終獎金\\n#24h必回覆'}\n",
            "https://www.yes123.com.tw/wk_index/job.asp?p_id=5494915_28031525&job_id=20250606141959_6527968\n",
            "{'title': '廣告平台資料工程師', 'salary': '薪資面議(經常性薪資達4萬元含以上)', 'company': '富邦媒體科技股份有限公司', 'county': '台北市內湖區', 'tags': ''}\n",
            "https://www.yes123.com.tw/wk_index/job.asp?p_id=20140103100924_27365925&job_id=20240627033111_35503672\n",
            "{'title': 'D4000 資訊課級主管(客戶行為應用方向)', 'salary': '薪資面議(經常性薪資達4萬元含以上)', 'company': '富邦媒體科技股份有限公司', 'county': '台北市內湖區', 'tags': ''}\n",
            "https://www.yes123.com.tw/wk_index/job.asp?p_id=20140103100924_27365925&job_id=20250501033108_38474780\n",
            "{'title': 'D4000 資料科學家', 'salary': '薪資面議(經常性薪資達4萬元含以上)', 'company': '富邦媒體科技股份有限公司', 'county': '台北市內湖區', 'tags': ''}\n",
            "https://www.yes123.com.tw/wk_index/job.asp?p_id=20140103100924_27365925&job_id=20231016095040_6018096\n",
            "{'title': '廣告推薦機器學習工程師', 'salary': '薪資面議(經常性薪資達4萬元含以上)', 'company': '富邦媒體科技股份有限公司', 'county': '台北市內湖區', 'tags': ''}\n",
            "https://www.yes123.com.tw/wk_index/job.asp?p_id=20140103100924_27365925&job_id=20250313033102_8210946\n",
            "{'title': '【總公司_資訊部】管理師', 'salary': '薪資面議(經常性薪資達4萬元含以上)', 'company': '新東陽股份有限公司', 'county': '台北市大安區', 'tags': ''}\n",
            "https://www.yes123.com.tw/wk_index/job.asp?p_id=20170929105150_15319335&job_id=20250212150642_27460268\n",
            "{'title': 'D4000 資料工程師(推薦/搜尋)', 'salary': '薪資面議(經常性薪資達4萬元含以上)', 'company': '富邦媒體科技股份有限公司', 'county': '台北市內湖區', 'tags': ''}\n",
            "https://www.yes123.com.tw/wk_index/job.asp?p_id=20140103100924_27365925&job_id=20250206033051_30086937\n",
            "{'title': '資料架構工程師', 'salary': '薪資面議(經常性薪資達4萬元含以上)', 'company': '富邦媒體科技股份有限公司', 'county': '台北市內湖區', 'tags': ''}\n",
            "https://www.yes123.com.tw/wk_index/job.asp?p_id=20140103100924_27365925&job_id=20250313033102_13327652\n",
            "{'title': '總公司 Junior Data Product Manager_台北', 'salary': '薪資面議(經常性薪資達4萬元含以上)', 'company': '(家樂福)家福股份有限公司', 'county': '台北市北投區', 'tags': ''}\n",
            "https://www.yes123.com.tw/wk_index/job.asp?p_id=81040_26208953&job_id=20250403040736_15393908\n",
            "{'title': '[下半年實習] 計量交易部策略交易科實習生(實習僅能選擇一項投遞)', 'salary': '時薪\\u3000190元', 'company': '統一綜合證券股份有限公司', 'county': '台北市松山區', 'tags': ''}\n",
            "https://www.yes123.com.tw/wk_index/job.asp?p_id=5748821_23218183&job_id=20250528081023_85230352\n",
            "{'title': '總公司 Junior Data Engineer_台北', 'salary': '薪資面議(經常性薪資達4萬元含以上)', 'company': '(家樂福)家福股份有限公司', 'county': '台北市北投區', 'tags': ''}\n",
            "https://www.yes123.com.tw/wk_index/job.asp?p_id=81040_26208953&job_id=20250403040736_7676833\n",
            "{'title': '[下半年實習] 經紀部數據中心實習生(實習僅能選擇一項投遞)', 'salary': '時薪\\u3000190元', 'company': '統一綜合證券股份有限公司', 'county': '台北市松山區', 'tags': ''}\n",
            "https://www.yes123.com.tw/wk_index/job.asp?p_id=5748821_23218183&job_id=20250528081023_206135\n",
            "{'title': '[下半年實習] 計量交易部期貨自營科實習生(實習僅能選擇一項投遞)', 'salary': '時薪\\u3000190元', 'company': '統一綜合證券股份有限公司', 'county': '台北市松山區', 'tags': ''}\n",
            "https://www.yes123.com.tw/wk_index/job.asp?p_id=5748821_23218183&job_id=20250528081023_38024143\n",
            "{'title': 'Asp.Net ,C# 程式設計工程師(RD)', 'salary': '月薪\\u300035,000 至 50,000元', 'company': '兆揅科技股份有限公司', 'county': '新竹市東區', 'tags': ''}\n",
            "https://www.yes123.com.tw/wk_index/job.asp?p_id=20141202162652_54769416&job_id=20240307155530_1217016\n",
            "{'title': 'ESG碳數據管理師', 'salary': '薪資面議(經常性薪資達4萬元含以上)', 'company': '潤弘精密工程事業股份有限公司', 'county': '台北市中山區', 'tags': ''}\n",
            "https://www.yes123.com.tw/wk_index/job.asp?p_id=8187938_66394146&job_id=20250523042004_24360863\n",
            "{'title': 'AI資料工程師(桃園)', 'salary': '薪資面議(經常性薪資達4萬元含以上)', 'company': '英業達股份有限公司', 'county': '桃園市桃園區', 'tags': ''}\n",
            "https://www.yes123.com.tw/wk_index/job.asp?p_id=83151_04322046&job_id=20250509042616_21320081\n",
            "{'title': 'AI軟體工程師 (大溪)', 'salary': '薪資面議(經常性薪資達4萬元含以上)', 'company': '英業達股份有限公司', 'county': '桃園市大溪區', 'tags': ''}\n",
            "https://www.yes123.com.tw/wk_index/job.asp?p_id=83151_04322046&job_id=20241216035610_44313675\n",
            "{'title': 'Data Scientist (士林)', 'salary': '月薪\\u300055,000元以上', 'company': '英業達股份有限公司', 'county': '台北市士林區', 'tags': ''}\n",
            "https://www.yes123.com.tw/wk_index/job.asp?p_id=83151_04322046&job_id=20240219040536_1921068\n",
            "{'title': '資訊部-BI系統工程師', 'salary': '薪資面議(經常性薪資達4萬元含以上)', 'company': '王品餐飲股份有限公司', 'county': '台中市西區', 'tags': ''}\n",
            "https://www.yes123.com.tw/wk_index/job.asp?p_id=12046_84630426&job_id=20221025033418_19978763\n",
            "{'title': 'AI軟體工程師 (士林)', 'salary': '薪資面議(經常性薪資達4萬元含以上)', 'company': '英業達股份有限公司', 'county': '台北市士林區', 'tags': ''}\n",
            "https://www.yes123.com.tw/wk_index/job.asp?p_id=83151_04322046&job_id=20240610041101_1048261\n",
            "{'title': '[Server]DBA資料庫管理師(桃園)', 'salary': '薪資面議(經常性薪資達4萬元含以上)', 'company': '英業達股份有限公司', 'county': '桃園市桃園區', 'tags': ''}\n",
            "https://www.yes123.com.tw/wk_index/job.asp?p_id=83151_04322046&job_id=20250303042617_33489728\n",
            "{'title': '營運部-系統設計與維護規劃師', 'salary': '月薪\\u300038,000 至 45,000元', 'company': '王品餐飲股份有限公司', 'county': '台中市西區', 'tags': ''}\n",
            "https://www.yes123.com.tw/wk_index/job.asp?p_id=12046_84630426&job_id=20240712034559_60712410\n",
            "{'title': '數據工程師', 'salary': '月薪\\u300050,000元以上', 'company': '神腦國際企業股份有限公司', 'county': '新北市新店區', 'tags': ''}\n",
            "https://www.yes123.com.tw/wk_index/job.asp?p_id=7042309_12228473&job_id=20250218040039_31438342\n"
          ]
        }
      ]
    },
    {
      "cell_type": "markdown",
      "source": [
        "## 備用：如果需要使用 selenium"
      ],
      "metadata": {
        "id": "PWr24D_pLbIC"
      }
    },
    {
      "cell_type": "markdown",
      "source": [
        "### 安裝所需套件"
      ],
      "metadata": {
        "id": "G4PCnv3WLdhg"
      }
    },
    {
      "cell_type": "code",
      "source": [
        "!apt-get update\n",
        "!apt install chromium-chromedriver\n",
        "!cp /usr/lib/chromium-browser/chromedriver /usr/bin\n",
        "!pip install selenium"
      ],
      "metadata": {
        "id": "HWxsOodG5R47"
      },
      "execution_count": null,
      "outputs": []
    },
    {
      "cell_type": "markdown",
      "source": [
        "### 載入套件"
      ],
      "metadata": {
        "id": "hRnk8e2iLlb5"
      }
    },
    {
      "cell_type": "code",
      "source": [
        "import time\n",
        "from selenium import webdriver\n",
        "from selenium.webdriver.common.by import By\n",
        "from selenium.webdriver.common.keys import Keys\n",
        "chrome_options = webdriver.ChromeOptions()\n",
        "chrome_options.add_argument('--headless')\n",
        "chrome_options.add_argument('--no-sandbox')\n",
        "chrome_options.add_argument('--disable-dev-shm-usage')\n",
        "chrome_options.headless = True\n",
        "driver = webdriver.Chrome(options=chrome_options)"
      ],
      "metadata": {
        "id": "1ODINj1p5bP6"
      },
      "execution_count": 2,
      "outputs": []
    },
    {
      "cell_type": "markdown",
      "source": [
        "### 課堂範例用法"
      ],
      "metadata": {
        "id": "6miySFZtL810"
      }
    },
    {
      "cell_type": "code",
      "source": [
        "driver.get(\"https://www.google.com\")\n",
        "driver.maximize_window()\n",
        "# 開始使用selenium\n",
        "# 常見語法：BY.TAG_NAME、BY.CLASS_NAME、BY.ID\n",
        "# 尋找Chrome首頁的文字輸入框\n",
        "e = driver.find_element(By.CLASS_NAME, \"gLFyf\")\n",
        "print(e.get_attribute(\"class\"))\n",
        "# 點擊：click()，鍵盤輸入：send_keys(\"aaa\")\n",
        "e.send_keys(\"chiikawa\")\n",
        "e.send_keys(Keys.ENTER)"
      ],
      "metadata": {
        "colab": {
          "base_uri": "https://localhost:8080/"
        },
        "id": "rWyabyg87DxZ",
        "outputId": "a6dcd06f-4d03-4cc6-af41-42f201549076"
      },
      "execution_count": null,
      "outputs": [
        {
          "output_type": "stream",
          "name": "stdout",
          "text": [
            "gLFyf\n"
          ]
        }
      ]
    }
  ]
}